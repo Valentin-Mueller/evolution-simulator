{
 "cells": [
  {
   "cell_type": "code",
   "execution_count": null,
   "metadata": {},
   "outputs": [],
   "source": [
    "import seaborn as sns\n",
    "\n",
    "from evolution_simulation.ecosystem import Ecosystem\n",
    "\n",
    "%load_ext autoreload\n",
    "%autoreload 2"
   ]
  },
  {
   "cell_type": "code",
   "execution_count": null,
   "metadata": {},
   "outputs": [],
   "source": [
    "sns.set_style('darkgrid')"
   ]
  },
  {
   "cell_type": "code",
   "execution_count": null,
   "metadata": {},
   "outputs": [],
   "source": [
    "n_organisms = 1000\n",
    "n_generations = 100\n",
    "\n",
    "random_seed = 42"
   ]
  },
  {
   "cell_type": "code",
   "execution_count": null,
   "metadata": {},
   "outputs": [],
   "source": [
    "test_ecosystem_parameters = {\n",
    "    'temperature': {\n",
    "        'mean': 20,\n",
    "        'std': 5,\n",
    "        'min_value': 5,\n",
    "        'max_value': 35,\n",
    "        'volatility': 10,\n",
    "    },\n",
    "    'hazard_rate' : {\n",
    "        'mean': 0.3,\n",
    "        'std': 0.05,\n",
    "        'min_value': 0.1,\n",
    "        'max_value': 0.5,\n",
    "        'volatility': 0.1,\n",
    "    },\n",
    "    'food': {\n",
    "        'mean': 1000,\n",
    "        'std': 100,\n",
    "        'min_value': 500,\n",
    "        'max_value': 1500,\n",
    "        'volatility': 300,\n",
    "    },\n",
    "}"
   ]
  },
  {
   "cell_type": "code",
   "execution_count": null,
   "metadata": {},
   "outputs": [],
   "source": [
    "test_organism_initial_parameters = {\n",
    "    'temperature_ideal': {\n",
    "        'mean': 20,\n",
    "        'std': 2,\n",
    "        'min_value': 15,\n",
    "        'max_value': 25,\n",
    "    },\n",
    "    'temperature_range': {\n",
    "        'mean': 20,\n",
    "        'std': 5,\n",
    "        'min_value': 5,\n",
    "        'max_value': 35,\n",
    "    },\n",
    "    'resilience': {\n",
    "        'mean': 0.3,\n",
    "        'std': 0.1,\n",
    "        'min_value': 0.1,\n",
    "        'max_value': 0.5,\n",
    "    },\n",
    "    'fertility': {\n",
    "        'mean': 4,\n",
    "        'std': 1,\n",
    "        'min_value': 2,\n",
    "        'max_value': 6,\n",
    "    },\n",
    "    'mutation_chance': {\n",
    "        'mean': 0.1,\n",
    "        'std': 0.02,\n",
    "        'min_value': 0.05,\n",
    "        'max_value': 0.15,\n",
    "    },\n",
    "}"
   ]
  },
  {
   "cell_type": "code",
   "execution_count": null,
   "metadata": {},
   "outputs": [],
   "source": [
    "test_ecosystem = Ecosystem(parameters=test_ecosystem_parameters, random_seed=random_seed)\n",
    "\n",
    "test_ecosystem.initialize_organisms(parameters=test_organism_initial_parameters, n=n_organisms)"
   ]
  },
  {
   "cell_type": "code",
   "execution_count": null,
   "metadata": {},
   "outputs": [],
   "source": [
    "test_ecosystem.simulate_evolution(n=n_generations)"
   ]
  }
 ],
 "metadata": {
  "kernelspec": {
   "display_name": "evolution-simulation",
   "language": "python",
   "name": "python3"
  },
  "language_info": {
   "codemirror_mode": {
    "name": "ipython",
    "version": 3
   },
   "file_extension": ".py",
   "mimetype": "text/x-python",
   "name": "python",
   "nbconvert_exporter": "python",
   "pygments_lexer": "ipython3",
   "version": "3.10.9"
  },
  "orig_nbformat": 4,
  "vscode": {
   "interpreter": {
    "hash": "5c8b04f9016f9bfd98694f672544714dd861837f9e3c459a4dd1633bec24dec8"
   }
  }
 },
 "nbformat": 4,
 "nbformat_minor": 2
}
