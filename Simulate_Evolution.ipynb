{
 "cells": [
  {
   "cell_type": "code",
   "execution_count": null,
   "metadata": {},
   "outputs": [],
   "source": [
    "import seaborn as sns\n",
    "\n",
    "from evolution_simulation.ecosystem import Ecosystem\n",
    "\n",
    "%load_ext autoreload\n",
    "%autoreload 2"
   ]
  },
  {
   "cell_type": "code",
   "execution_count": null,
   "metadata": {},
   "outputs": [],
   "source": [
    "sns.set_style('darkgrid')"
   ]
  },
  {
   "cell_type": "code",
   "execution_count": null,
   "metadata": {},
   "outputs": [],
   "source": [
    "test_parameters = {\n",
    "    'temperature': {\n",
    "        'mean': 20,\n",
    "        'std': 5,\n",
    "        'min_value': 5,\n",
    "        'max_value': 35,\n",
    "    },\n",
    "    'hazard_rate' : {\n",
    "        'mean': 0.3,\n",
    "        'std': 0.05,\n",
    "        'min_value': 0.1,\n",
    "        'max_value': 0.5,\n",
    "        'volatility': 0.1,\n",
    "    },\n",
    "    'food': {\n",
    "        'mean': 1000,\n",
    "        'std': 100,\n",
    "        'min_value': 500,\n",
    "        'max_value': 1500,\n",
    "        'volatility': 300,\n",
    "    },\n",
    "}"
   ]
  },
  {
   "cell_type": "code",
   "execution_count": null,
   "metadata": {},
   "outputs": [],
   "source": [
    "test_ecosystem = Ecosystem(test_parameters)\n",
    "\n",
    "test_values = test_ecosystem.temperature.get_random_values(100000)\n"
   ]
  },
  {
   "cell_type": "code",
   "execution_count": null,
   "metadata": {},
   "outputs": [],
   "source": [
    "_ = sns.histplot(test_values)"
   ]
  },
  {
   "cell_type": "code",
   "execution_count": null,
   "metadata": {},
   "outputs": [],
   "source": [
    "lineplot_len = 100\n",
    "\n",
    "_ = sns.lineplot(x=range(lineplot_len), y=test_values[:lineplot_len])"
   ]
  }
 ],
 "metadata": {
  "kernelspec": {
   "display_name": "evolution-simulation",
   "language": "python",
   "name": "python3"
  },
  "language_info": {
   "codemirror_mode": {
    "name": "ipython",
    "version": 3
   },
   "file_extension": ".py",
   "mimetype": "text/x-python",
   "name": "python",
   "nbconvert_exporter": "python",
   "pygments_lexer": "ipython3",
   "version": "3.10.9"
  },
  "orig_nbformat": 4,
  "vscode": {
   "interpreter": {
    "hash": "5c8b04f9016f9bfd98694f672544714dd861837f9e3c459a4dd1633bec24dec8"
   }
  }
 },
 "nbformat": 4,
 "nbformat_minor": 2
}
